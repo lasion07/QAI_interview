{
 "cells": [
  {
   "cell_type": "markdown",
   "metadata": {},
   "source": [
    "# Install dependencies"
   ]
  },
  {
   "cell_type": "code",
   "execution_count": 21,
   "metadata": {},
   "outputs": [],
   "source": [
    "import numpy as np\n",
    "import pandas as pd\n",
    "import matplotlib.pyplot as plt\n",
    "\n",
    "from sklearn.datasets import fetch_openml"
   ]
  },
  {
   "cell_type": "markdown",
   "metadata": {},
   "source": [
    "# Download dataset"
   ]
  },
  {
   "cell_type": "code",
   "execution_count": 2,
   "metadata": {},
   "outputs": [],
   "source": [
    "mnist = fetch_openml('mnist_784', version=1, cache=True, parser='auto')"
   ]
  },
  {
   "cell_type": "code",
   "execution_count": 3,
   "metadata": {},
   "outputs": [
    {
     "data": {
      "text/plain": [
       "(70000, 784)"
      ]
     },
     "execution_count": 3,
     "metadata": {},
     "output_type": "execute_result"
    }
   ],
   "source": [
    "mnist.data.shape"
   ]
  },
  {
   "cell_type": "code",
   "execution_count": 27,
   "metadata": {},
   "outputs": [],
   "source": [
    "X = mnist.data.to_numpy() / 255.0\n",
    "y = pd.get_dummies(mnist.target).to_numpy().astype(int)"
   ]
  },
  {
   "cell_type": "markdown",
   "metadata": {},
   "source": [
    "# Split data into train and test set"
   ]
  },
  {
   "cell_type": "code",
   "execution_count": 28,
   "metadata": {},
   "outputs": [
    {
     "name": "stdout",
     "output_type": "stream",
     "text": [
      "X_train.shape: (56000, 784)\n",
      "y_train.shape: (56000, 10)\n",
      "X_test.shape: (14000, 784)\n",
      "y_test.shape: (14000, 10)\n"
     ]
    }
   ],
   "source": [
    "train_ratio = 0.8\n",
    "p = int(train_ratio * X.shape[0])\n",
    "\n",
    "X_train = X[:p]\n",
    "X_test = X[p:]\n",
    "y_train = y[:p]\n",
    "y_test = y[p:]\n",
    "\n",
    "print(\"X_train.shape:\", X_train.shape)\n",
    "print(\"y_train.shape:\", y_train.shape)\n",
    "print(\"X_test.shape:\", X_test.shape)\n",
    "print(\"y_test.shape:\", y_test.shape)"
   ]
  },
  {
   "cell_type": "markdown",
   "metadata": {},
   "source": [
    "# Define functions"
   ]
  },
  {
   "cell_type": "code",
   "execution_count": 29,
   "metadata": {},
   "outputs": [],
   "source": [
    "# Logistic Regression\n",
    "\n",
    "def predict(weights, feature): # Sigmoid\n",
    "    z = np.dot(feature, weights)\n",
    "    return 1 / (1 + np.exp(-z))\n",
    "\n",
    "def calculate_loss(predictions, actual_values): # Binary cross entropy loss\n",
    "    epsilon = 1e-15 # prevent log(0)\n",
    "    return - np.mean((actual_values * np.log(predictions + epsilon) + (1 - actual_values) * np.log(1 - predictions + epsilon)))\n",
    "\n",
    "def calculate_gradient(feature_matrix, predictions, actual_values):\n",
    "    return np.dot(feature_matrix.T, predictions - actual_values) / len(predictions)"
   ]
  },
  {
   "cell_type": "code",
   "execution_count": 30,
   "metadata": {},
   "outputs": [],
   "source": [
    "def gradient_descent(X_train, y_train, X_test, y_test, batch_size=32, epochs=10, learning_rate=0.01):\n",
    "\n",
    "\tn, m = X_train.shape\n",
    "\to = y_train.shape[-1]\n",
    "\n",
    "\t# initialize random weights\n",
    "\tweights = np.random.rand(m, o)\n",
    "\n",
    "\t# START TRAINING\n",
    "\tfor epoch in range(epochs):\n",
    "\t\ttrain_loss = 0\n",
    "\t\tfor iteration in range(0, n, batch_size):\n",
    "\t\t\tbatch_start = iteration\n",
    "\t\t\tbatch_end = iteration + batch_size\n",
    "\n",
    "\t\t\tx_batch = X_train[batch_start:batch_end]\n",
    "\t\t\ty_batch = y_train[batch_start:batch_end]\n",
    "\n",
    "\t\t\tpredictions = predict(weights, x_batch)\n",
    "\n",
    "\t\t\tgradient = calculate_gradient(x_batch, predictions, y_batch)\n",
    "\t\t\tweights -= learning_rate * gradient\n",
    "\t\t\t\n",
    "\t\t\tbatch_loss = calculate_loss(predictions, y_batch)\n",
    "\t\t\ttrain_loss += batch_loss\n",
    "\n",
    "\t\t# START VALIDATING\n",
    "\t\tpredictions = predict(weights, X_test)\n",
    "\t\ttest_loss = calculate_loss(predictions, y_test)\n",
    "\n",
    "\t\tprint(f\"epoch {epoch+1}/{epochs} | Train Loss {train_loss} | Test Loss {test_loss}\")\n",
    "\n",
    "\treturn weights"
   ]
  },
  {
   "cell_type": "code",
   "execution_count": 34,
   "metadata": {},
   "outputs": [],
   "source": [
    "def metrics(preds, y_true):\n",
    "\t# True Positives, False Positives, False Negatives\n",
    "\ttp = np.sum((preds == 1) & (y_true == 1))\n",
    "\tfp = np.sum((preds == 1) & (y_true == 0))\n",
    "\tfn = np.sum((preds == 0) & (y_true == 1))\n",
    "\t\n",
    "\taccuracy = np.sum(preds == y_true) / len(y_true)\n",
    "\tprecision = tp / (tp + fp) if (tp + fp) != 0 else 0\n",
    "\trecall = tp / (tp + fn) if (tp + fn) != 0 else 0\n",
    "\tf1score = 2 * (precision * recall) / (precision + recall) if (precision + recall) != 0 else 0\n",
    "\t\n",
    "\treturn accuracy, precision, recall, f1score"
   ]
  },
  {
   "cell_type": "markdown",
   "metadata": {},
   "source": [
    "# Train"
   ]
  },
  {
   "cell_type": "code",
   "execution_count": 35,
   "metadata": {},
   "outputs": [
    {
     "name": "stdout",
     "output_type": "stream",
     "text": [
      "epoch 1/10 | Train Loss 4065.2731085825394 | Test Loss 0.2308220804302492\n",
      "epoch 2/10 | Train Loss 348.512265328198 | Test Loss 0.15891512674117408\n",
      "epoch 3/10 | Train Loss 275.32896703224344 | Test Loss 0.13554119307011397\n",
      "epoch 4/10 | Train Loss 244.871155849076 | Test Loss 0.12337629172983187\n",
      "epoch 5/10 | Train Loss 227.07564015360987 | Test Loss 0.11567583981973865\n",
      "epoch 6/10 | Train Loss 215.00999379770826 | Test Loss 0.1102527084894912\n",
      "epoch 7/10 | Train Loss 206.1159023996321 | Test Loss 0.1061704463614433\n",
      "epoch 8/10 | Train Loss 199.19864718798817 | Test Loss 0.10295512492540712\n",
      "epoch 9/10 | Train Loss 193.61507191872897 | Test Loss 0.10033867220879529\n",
      "epoch 10/10 | Train Loss 188.98351308900365 | Test Loss 0.09815667379286393\n"
     ]
    }
   ],
   "source": [
    "weights = gradient_descent(\n",
    "\tX_train, y_train,\n",
    "\tX_test, y_test,\n",
    "\tbatch_size=32,\n",
    "\tepochs=10,\n",
    "\tlearning_rate=0.01,\n",
    ")"
   ]
  },
  {
   "cell_type": "markdown",
   "metadata": {},
   "source": [
    "# Evaluate"
   ]
  },
  {
   "cell_type": "code",
   "execution_count": 75,
   "metadata": {},
   "outputs": [],
   "source": [
    "preds = predict(weights, X_test)\n",
    "for i in range(preds.shape[0]):\n",
    "    max_index = np.argmax(preds[i])\n",
    "    preds[i] = np.where(preds[i] == preds[i][max_index], 1, 0)\n",
    "\n",
    "results = []\n",
    "for i in range(10):\n",
    "    result = metrics(preds[:, i], y_test[:, i])\n",
    "    results.append(result)\n",
    "results.append(np.mean(results, axis=0))"
   ]
  },
  {
   "cell_type": "code",
   "execution_count": 78,
   "metadata": {},
   "outputs": [
    {
     "data": {
      "text/html": [
       "<div>\n",
       "<style scoped>\n",
       "    .dataframe tbody tr th:only-of-type {\n",
       "        vertical-align: middle;\n",
       "    }\n",
       "\n",
       "    .dataframe tbody tr th {\n",
       "        vertical-align: top;\n",
       "    }\n",
       "\n",
       "    .dataframe thead th {\n",
       "        text-align: right;\n",
       "    }\n",
       "</style>\n",
       "<table border=\"1\" class=\"dataframe\">\n",
       "  <thead>\n",
       "    <tr style=\"text-align: right;\">\n",
       "      <th></th>\n",
       "      <th>Accuracy</th>\n",
       "      <th>Precision</th>\n",
       "      <th>Recall</th>\n",
       "      <th>F1 Score</th>\n",
       "    </tr>\n",
       "  </thead>\n",
       "  <tbody>\n",
       "    <tr>\n",
       "      <th>0</th>\n",
       "      <td>0.989929</td>\n",
       "      <td>0.933193</td>\n",
       "      <td>0.966497</td>\n",
       "      <td>0.949553</td>\n",
       "    </tr>\n",
       "    <tr>\n",
       "      <th>1</th>\n",
       "      <td>0.990857</td>\n",
       "      <td>0.958042</td>\n",
       "      <td>0.960484</td>\n",
       "      <td>0.959262</td>\n",
       "    </tr>\n",
       "    <tr>\n",
       "      <th>2</th>\n",
       "      <td>0.979929</td>\n",
       "      <td>0.925871</td>\n",
       "      <td>0.873427</td>\n",
       "      <td>0.898884</td>\n",
       "    </tr>\n",
       "    <tr>\n",
       "      <th>3</th>\n",
       "      <td>0.976357</td>\n",
       "      <td>0.872590</td>\n",
       "      <td>0.896674</td>\n",
       "      <td>0.884468</td>\n",
       "    </tr>\n",
       "    <tr>\n",
       "      <th>4</th>\n",
       "      <td>0.981500</td>\n",
       "      <td>0.898076</td>\n",
       "      <td>0.915698</td>\n",
       "      <td>0.906801</td>\n",
       "    </tr>\n",
       "    <tr>\n",
       "      <th>5</th>\n",
       "      <td>0.970643</td>\n",
       "      <td>0.868007</td>\n",
       "      <td>0.792498</td>\n",
       "      <td>0.828536</td>\n",
       "    </tr>\n",
       "    <tr>\n",
       "      <th>6</th>\n",
       "      <td>0.988429</td>\n",
       "      <td>0.934959</td>\n",
       "      <td>0.944735</td>\n",
       "      <td>0.939822</td>\n",
       "    </tr>\n",
       "    <tr>\n",
       "      <th>7</th>\n",
       "      <td>0.982071</td>\n",
       "      <td>0.920765</td>\n",
       "      <td>0.908968</td>\n",
       "      <td>0.914829</td>\n",
       "    </tr>\n",
       "    <tr>\n",
       "      <th>8</th>\n",
       "      <td>0.965571</td>\n",
       "      <td>0.798917</td>\n",
       "      <td>0.864469</td>\n",
       "      <td>0.830401</td>\n",
       "    </tr>\n",
       "    <tr>\n",
       "      <th>9</th>\n",
       "      <td>0.972714</td>\n",
       "      <td>0.873074</td>\n",
       "      <td>0.850608</td>\n",
       "      <td>0.861694</td>\n",
       "    </tr>\n",
       "    <tr>\n",
       "      <th>Avg</th>\n",
       "      <td>0.979800</td>\n",
       "      <td>0.898349</td>\n",
       "      <td>0.897406</td>\n",
       "      <td>0.897425</td>\n",
       "    </tr>\n",
       "  </tbody>\n",
       "</table>\n",
       "</div>"
      ],
      "text/plain": [
       "     Accuracy  Precision    Recall  F1 Score\n",
       "0    0.989929   0.933193  0.966497  0.949553\n",
       "1    0.990857   0.958042  0.960484  0.959262\n",
       "2    0.979929   0.925871  0.873427  0.898884\n",
       "3    0.976357   0.872590  0.896674  0.884468\n",
       "4    0.981500   0.898076  0.915698  0.906801\n",
       "5    0.970643   0.868007  0.792498  0.828536\n",
       "6    0.988429   0.934959  0.944735  0.939822\n",
       "7    0.982071   0.920765  0.908968  0.914829\n",
       "8    0.965571   0.798917  0.864469  0.830401\n",
       "9    0.972714   0.873074  0.850608  0.861694\n",
       "Avg  0.979800   0.898349  0.897406  0.897425"
      ]
     },
     "execution_count": 78,
     "metadata": {},
     "output_type": "execute_result"
    }
   ],
   "source": [
    "pd.DataFrame(results,\n",
    "\t\t\tcolumns=['Accuracy', 'Precision', 'Recall', 'F1 Score'],\n",
    "\t\t\tindex=[0, 1, 2, 3, 4, 5, 6, 7, 8, 9, 'Avg'])"
   ]
  },
  {
   "cell_type": "markdown",
   "metadata": {},
   "source": [
    "# Infer"
   ]
  },
  {
   "cell_type": "code",
   "execution_count": 48,
   "metadata": {},
   "outputs": [
    {
     "data": {
      "image/png": "[encoded data removed]",
      "text/plain": [
       "<Figure size 640x480 with 1 Axes>"
      ]
     },
     "metadata": {},
     "output_type": "display_data"
    }
   ],
   "source": [
    "import random\n",
    "\n",
    "index = random.randint(0, len(y_test))\n",
    "\n",
    "plt.title(f'Truth: {np.argmax(y_test[index])}, Pred: {np.argmax(preds[index])}')\n",
    "plt.gray()\n",
    "plt.imshow(X_test[index].reshape(28, 28))\n",
    "plt.show()"
   ]
  },
  {
   "cell_type": "code",
   "execution_count": null,
   "metadata": {},
   "outputs": [],
   "source": []
  }
 ],
 "metadata": {
  "kernelspec": {
   "display_name": "Python 3",
   "language": "python",
   "name": "python3"
  },
  "language_info": {
   "codemirror_mode": {
    "name": "ipython",
    "version": 3
   },
   "file_extension": ".py",
   "mimetype": "text/x-python",
   "name": "python",
   "nbconvert_exporter": "python",
   "pygments_lexer": "ipython3",
   "version": "3.9.13"
  }
 },
 "nbformat": 4,
 "nbformat_minor": 2
}
