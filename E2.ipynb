{
 "cells": [
  {
   "cell_type": "code",
   "execution_count": 3,
   "metadata": {},
   "outputs": [],
   "source": [
    "import numpy as np"
   ]
  },
  {
   "cell_type": "code",
   "execution_count": 30,
   "metadata": {},
   "outputs": [],
   "source": [
    "def squared_euclidean_distance(v1, v2):\n",
    "    return np.linalg.norm(v1 - v2, axis=1)**2\n",
    "\n",
    "def triplet_loss(anchor, positive, negative, margin=1.0):\n",
    "    positive_distance = squared_euclidean_distance(anchor, positive)\n",
    "    negative_distance = squared_euclidean_distance(anchor, negative)\n",
    "    loss = np.maximum(0, positive_distance - negative_distance + margin)\n",
    "    return np.mean(loss)\n",
    "\n",
    "def triplet_loss_2(anchors, positives, negatives, margin=1.0):\n",
    "    positive_distance = np.mean(squared_euclidean_distance(anchors, positives))\n",
    "    negative_distance = np.mean(squared_euclidean_distance(anchors, negatives))\n",
    "    loss = np.maximum(0, positive_distance - negative_distance + margin)\n",
    "    return loss"
   ]
  },
  {
   "cell_type": "code",
   "execution_count": 31,
   "metadata": {},
   "outputs": [
    {
     "name": "stdout",
     "output_type": "stream",
     "text": [
      "0.0\n",
      "0.0\n"
     ]
    }
   ],
   "source": [
    "anchor = np.array([[1, 2, 3], [4, 5, 6]])\n",
    "positive = np.array([[1, 2, 4], [4, 5, 7]])\n",
    "negative = np.array([[7, 8, 9], [10, 11, 12]])\n",
    "\n",
    "print(triplet_loss(anchor, positive, negative))\n",
    "print(triplet_loss_2(anchor, positive, negative))"
   ]
  },
  {
   "cell_type": "code",
   "execution_count": 35,
   "metadata": {},
   "outputs": [
    {
     "name": "stdout",
     "output_type": "stream",
     "text": [
      "8257921.0\n"
     ]
    }
   ],
   "source": [
    "anchors = np.ones((1, 128))\n",
    "positives = np.ones((2, 128))\n",
    "negatives = np.zeros((5, 128))\n",
    "\n",
    "positives.fill(255)\n",
    "\n",
    "# print(triplet_loss(anchors, positives, negatives))\n",
    "print(triplet_loss_2(anchors, positives, negatives))"
   ]
  },
  {
   "cell_type": "code",
   "execution_count": null,
   "metadata": {},
   "outputs": [],
   "source": []
  }
 ],
 "metadata": {
  "kernelspec": {
   "display_name": "Python 3",
   "language": "python",
   "name": "python3"
  },
  "language_info": {
   "codemirror_mode": {
    "name": "ipython",
    "version": 3
   },
   "file_extension": ".py",
   "mimetype": "text/x-python",
   "name": "python",
   "nbconvert_exporter": "python",
   "pygments_lexer": "ipython3",
   "version": "3.9.13"
  }
 },
 "nbformat": 4,
 "nbformat_minor": 2
}
